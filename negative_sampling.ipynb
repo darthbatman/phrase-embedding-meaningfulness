{
 "cells": [
  {
   "cell_type": "code",
   "execution_count": 1,
   "id": "dangerous-discussion",
   "metadata": {},
   "outputs": [],
   "source": [
    "import pickle\n",
    "import random"
   ]
  },
  {
   "cell_type": "code",
   "execution_count": 2,
   "id": "controlling-shuttle",
   "metadata": {},
   "outputs": [],
   "source": [
    "MIN_FREQUENCY = 5\n",
    "MAX_PHRASE_LEN = 6"
   ]
  },
  {
   "cell_type": "code",
   "execution_count": 3,
   "id": "automated-nickel",
   "metadata": {},
   "outputs": [],
   "source": [
    "positive_samples = set(pickle.load(open('data/positive_samples.pkl', 'rb')))"
   ]
  },
  {
   "cell_type": "code",
   "execution_count": 4,
   "id": "valued-channels",
   "metadata": {},
   "outputs": [],
   "source": [
    "noun_phrases = pickle.load(open('data/noun_phrases.pkl', 'rb'))\n",
    "noun_phrases = [np for np in list(set(noun_phrases)) if len(np.split()) <= MAX_PHRASE_LEN]"
   ]
  },
  {
   "cell_type": "code",
   "execution_count": 5,
   "id": "defensive-pierre",
   "metadata": {},
   "outputs": [],
   "source": [
    "negative_samples = [np for np in noun_phrases if np not in positive_samples]"
   ]
  },
  {
   "cell_type": "code",
   "execution_count": 6,
   "id": "recorded-disposition",
   "metadata": {},
   "outputs": [
    {
     "name": "stdout",
     "output_type": "stream",
     "text": [
      "Loaded 10000 arxiv abstracts.\n"
     ]
    }
   ],
   "source": [
    "with open('data/arxiv_abstracts_10000.txt', 'r') as f:\n",
    "    arxiv_abstracts = f.read().split('\\n')[:-1]\n",
    "    arxiv_abstracts_raw = '\\n'.join(arxiv_abstracts)\n",
    "    f.close()\n",
    "print(f'Loaded {len(arxiv_abstracts)} arxiv abstracts.')"
   ]
  },
  {
   "cell_type": "code",
   "execution_count": 7,
   "id": "brown-ground",
   "metadata": {},
   "outputs": [],
   "source": [
    "negative_samples = [ns for ns in negative_samples if arxiv_abstracts_raw.count(ns) > MIN_FREQUENCY]"
   ]
  },
  {
   "cell_type": "code",
   "execution_count": 8,
   "id": "selected-niagara",
   "metadata": {},
   "outputs": [],
   "source": [
    "negative_samples = random.sample(negative_samples, 1900)"
   ]
  },
  {
   "cell_type": "code",
   "execution_count": 9,
   "id": "protected-construction",
   "metadata": {},
   "outputs": [],
   "source": [
    "pickle.dump(negative_samples, open('data/negative_samples.pkl', 'wb'))"
   ]
  }
 ],
 "metadata": {
  "kernelspec": {
   "display_name": "pem",
   "language": "python",
   "name": "pem"
  },
  "language_info": {
   "codemirror_mode": {
    "name": "ipython",
    "version": 3
   },
   "file_extension": ".py",
   "mimetype": "text/x-python",
   "name": "python",
   "nbconvert_exporter": "python",
   "pygments_lexer": "ipython3",
   "version": "3.8.5"
  }
 },
 "nbformat": 4,
 "nbformat_minor": 5
}
