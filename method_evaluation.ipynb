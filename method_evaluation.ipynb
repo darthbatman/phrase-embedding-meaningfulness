{
 "cells": [
  {
   "cell_type": "code",
   "execution_count": 1,
   "metadata": {},
   "outputs": [],
   "source": [
    "import pickle\n",
    "import random"
   ]
  },
  {
   "cell_type": "code",
   "execution_count": 2,
   "metadata": {},
   "outputs": [],
   "source": [
    "HAND_LABEL_PEM_SAMPLES = False"
   ]
  },
  {
   "cell_type": "code",
   "execution_count": 3,
   "metadata": {},
   "outputs": [],
   "source": [
    "keyphrase_labeled_econ_samples = pickle.load(open('data/labeled_econ_samples.pkl', 'rb'))\n",
    "keyphrase_labeled_autophrase_samples = pickle.load(open('data/labeled_autophrase_samples.pkl', 'rb'))\n",
    "keyphrase_labeled_prdr_samples = pickle.load(open('data/labeled_prdr_samples.pkl', 'rb'))\n",
    "\n",
    "phraseness_labeled_econ_samples = pickle.load(open('data/phraseness_labeled_econ_samples.pkl', 'rb'))\n",
    "phraseness_labeled_autophrase_samples = pickle.load(open('data/phraseness_labeled_autophrase_samples.pkl', 'rb'))\n",
    "phraseness_labeled_prdr_samples = pickle.load(open('data/phraseness_labeled_prdr_samples.pkl', 'rb'))"
   ]
  },
  {
   "cell_type": "code",
   "execution_count": 4,
   "metadata": {},
   "outputs": [],
   "source": [
    "if HAND_LABEL_PEM_SAMPLES:\n",
    "    pem_samples = pickle.load(open(f'data/pem_extracted_vs_200_ws_10_nl_10_mf_5_e_10000_t_1612466864.pkl', 'rb'))\n",
    "    pem_samples = random.sample(list(pem_samples), 100)"
   ]
  },
  {
   "cell_type": "code",
   "execution_count": 5,
   "metadata": {},
   "outputs": [
    {
     "name": "stdin",
     "output_type": "stream",
     "text": [
      "multipliers admm:  1\n",
      "system identification:  1\n",
      "principle:  1\n",
      "long horizons:  1\n",
      "each:  0\n",
      "general:  0\n",
      "logs:  1\n",
      "latent structure:  1\n",
      "basis:  0\n",
      "average:  0\n",
      "organism:  0\n",
      "rectified linear unit relu:  1\n",
      "inspiration:  0\n",
      "practical applications:  0\n",
      "part:  0\n",
      "attacks and defenses:  0\n",
      "component:  1\n",
      "distance:  1\n",
      "volumes:  1\n",
      "psychology:  0\n",
      "number:  1\n",
      "variation:  1\n",
      "cortex:  0\n",
      "structure learning:  1\n",
      "wide range:  0\n",
      "divergences:  1\n",
      "great potential:  0\n",
      "insight:  0\n",
      "variational auto encoders:  1\n",
      "messages:  1\n",
      "interest:  0\n",
      "neighbor:  1\n",
      "quantitative analysis:  1\n",
      "high probability:  0\n",
      "bangla alphabet:  0\n",
      "race:  0\n",
      "fisher:  0\n",
      "vote:  0\n",
      "substitute:  0\n",
      "moment:  1\n",
      "several problems:  0\n",
      "disease diagnosis:  0\n",
      "operations:  1\n",
      "python:  1\n",
      "security:  1\n",
      "descent sgd:  0\n",
      "mri:  0\n",
      "point processes:  1\n",
      "world:  0\n",
      "concern:  0\n",
      "risk:  0\n",
      "pool:  1\n",
      "fuzzy clustering:  1\n",
      "lower:  0\n",
      "adoption:  0\n",
      "advantages and disadvantages:  0\n",
      "sparseness:  1\n",
      "exact:  0\n",
      "feature:  1\n",
      "sublinear:  0\n",
      "variational:  0\n",
      "feature learning:  1\n",
      "medical diagnosis:  0\n",
      "expert:  1\n",
      "starts:  0\n",
      "early detection:  0\n",
      "real valued:  0\n",
      "noisy images:  1\n",
      "hyperparameter:  1\n",
      "image classification tasks:  1\n",
      "textbf:  0\n",
      "understanding:  0\n",
      "media:  1\n",
      "random fields:  1\n",
      "l2 regularization:  1\n",
      "translation:  1\n",
      "text processing:  1\n",
      "kws:  0\n",
      "other types:  0\n",
      "dialogue systems:  1\n",
      "resolution:  1\n",
      "dynamic time:  0\n",
      "toolkits:  1\n",
      "tree:  1\n",
      "many practical applications:  0\n",
      "data centers:  1\n",
      "multiplication:  1\n",
      "1 norm:  1\n",
      "automated:  0\n",
      "dependency:  1\n",
      "linear classification:  1\n",
      "correspondence:  1\n",
      "backprop:  1\n",
      "recommendation systems:  1\n",
      "sfa:  0\n",
      "structure:  1\n",
      "image representation:  1\n",
      "clustering algorithm:  1\n",
      "templates:  1\n",
      "unitary:  0\n"
     ]
    }
   ],
   "source": [
    "if HAND_LABEL_PEM_SAMPLES:\n",
    "    keyphrase_labeled_pem_samples = []\n",
    "    num_positive = 0\n",
    "    for sample in pem_samples:\n",
    "        label = input(f'{sample}: ')\n",
    "        keyphrase_labeled_pem_samples.append((sample, label))\n",
    "        if label == '1':\n",
    "            num_positive += 1\n",
    "    pickle.dump(keyphrase_labeled_pem_samples, open('data/labeled_pem_samples.pkl', 'wb'))\n",
    "keyphrase_labeled_pem_samples = pickle.load(open('data/labeled_pem_samples.pkl', 'rb'))"
   ]
  },
  {
   "cell_type": "code",
   "execution_count": 8,
   "metadata": {},
   "outputs": [
    {
     "name": "stdin",
     "output_type": "stream",
     "text": [
      "each:  0\n",
      "general:  0\n",
      "basis:  1\n",
      "average:  1\n",
      "organism:  1\n",
      "inspiration:  1\n",
      "practical applications:  1\n",
      "part:  1\n",
      "attacks and defenses:  0\n",
      "psychology:  1\n",
      "cortex:  1\n",
      "wide range:  1\n",
      "great potential:  1\n",
      "insight:  1\n",
      "interest:  1\n",
      "high probability:  1\n",
      "bangla alphabet:  1\n",
      "race:  1\n",
      "fisher:  0\n",
      "vote:  1\n",
      "substitute:  1\n",
      "several problems:  1\n",
      "disease diagnosis:  1\n",
      "descent sgd:  0\n",
      "mri:  1\n",
      "world:  1\n",
      "concern:  1\n",
      "risk:  1\n",
      "lower:  0\n",
      "adoption:  1\n",
      "advantages and disadvantages:  0\n",
      "exact:  0\n",
      "sublinear:  0\n",
      "variational:  0\n",
      "medical diagnosis:  1\n",
      "starts:  0\n",
      "early detection:  1\n",
      "real valued:  0\n",
      "textbf:  0\n",
      "understanding:  1\n",
      "kws:  0\n",
      "other types:  1\n",
      "dynamic time:  1\n",
      "many practical applications:  1\n",
      "automated:  0\n",
      "sfa:  0\n",
      "unitary:  0\n"
     ]
    }
   ],
   "source": [
    "if HAND_LABEL_PEM_SAMPLES:\n",
    "    phraseness_labeled_pem_samples = []\n",
    "    num_positive = 0\n",
    "    for sample, l in keyphrase_labeled_pem_samples:\n",
    "        if l != '1':\n",
    "            label = input(f'{sample}: ')\n",
    "            phraseness_labeled_pem_samples.append((sample, label))\n",
    "            if label == '1':\n",
    "                num_positive += 1\n",
    "    pickle.dump(phraseness_labeled_pem_samples, open('data/phraseness_labeled_pem_samples.pkl', 'wb'))\n",
    "phraseness_labeled_pem_samples = pickle.load(open('data/phraseness_labeled_pem_samples.pkl', 'rb'))"
   ]
  },
  {
   "cell_type": "markdown",
   "metadata": {},
   "source": [
    "## Keyphrase"
   ]
  },
  {
   "cell_type": "code",
   "execution_count": 9,
   "metadata": {},
   "outputs": [
    {
     "name": "stdout",
     "output_type": "stream",
     "text": [
      "PEM Hand-Labeled Precision: 0.53\n"
     ]
    }
   ],
   "source": [
    "num_positive = 0\n",
    "for ls in keyphrase_labeled_pem_samples:\n",
    "    if ls[1] == '1':\n",
    "        num_positive += 1\n",
    "print(f'PEM Hand-Labeled Precision: {num_positive / len(keyphrase_labeled_pem_samples)}')"
   ]
  },
  {
   "cell_type": "code",
   "execution_count": 10,
   "metadata": {},
   "outputs": [
    {
     "name": "stdout",
     "output_type": "stream",
     "text": [
      "ECON Hand-Labeled Precision: 0.57\n"
     ]
    }
   ],
   "source": [
    "num_positive = 0\n",
    "for ls in keyphrase_labeled_econ_samples:\n",
    "    if ls[1] == '1':\n",
    "        num_positive += 1\n",
    "print(f'ECON Hand-Labeled Precision: {num_positive / len(keyphrase_labeled_econ_samples)}')"
   ]
  },
  {
   "cell_type": "code",
   "execution_count": 11,
   "metadata": {},
   "outputs": [
    {
     "name": "stdout",
     "output_type": "stream",
     "text": [
      "AutoPhrase Hand-Labeled Precision: 0.55\n"
     ]
    }
   ],
   "source": [
    "num_positive = 0\n",
    "for ls in keyphrase_labeled_autophrase_samples:\n",
    "    if ls[1] == '1':\n",
    "        num_positive += 1\n",
    "print(f'AutoPhrase Hand-Labeled Precision: {num_positive / len(keyphrase_labeled_autophrase_samples)}')"
   ]
  },
  {
   "cell_type": "code",
   "execution_count": 12,
   "metadata": {},
   "outputs": [
    {
     "name": "stdout",
     "output_type": "stream",
     "text": [
      "PRDR Hand-Labeled Precision: 0.65\n"
     ]
    }
   ],
   "source": [
    "num_positive = 0\n",
    "for ls in keyphrase_labeled_prdr_samples:\n",
    "    if ls[1] == '1':\n",
    "        num_positive += 1\n",
    "print(f'PRDR Hand-Labeled Precision: {num_positive / len(keyphrase_labeled_prdr_samples)}')"
   ]
  },
  {
   "cell_type": "markdown",
   "metadata": {},
   "source": [
    "## Phraseness"
   ]
  },
  {
   "cell_type": "code",
   "execution_count": 14,
   "metadata": {},
   "outputs": [
    {
     "name": "stdout",
     "output_type": "stream",
     "text": [
      "PEM Hand-Labeled Precision: 0.73\n"
     ]
    }
   ],
   "source": [
    "num_positive = 0\n",
    "for ls in phraseness_labeled_pem_samples:\n",
    "    if ls[1] == '1':\n",
    "        num_positive += 1\n",
    "print(f'PEM Hand-Labeled Precision: {(num_positive + 43) / 100}')"
   ]
  },
  {
   "cell_type": "code",
   "execution_count": 15,
   "metadata": {},
   "outputs": [
    {
     "name": "stdout",
     "output_type": "stream",
     "text": [
      "ECON Hand-Labeled Precision: 0.81\n"
     ]
    }
   ],
   "source": [
    "num_positive = 0\n",
    "for ls in phraseness_labeled_econ_samples:\n",
    "    if ls[1] == '1':\n",
    "        num_positive += 1\n",
    "print(f'ECON Hand-Labeled Precision: {(num_positive + 57) / 100}')"
   ]
  },
  {
   "cell_type": "code",
   "execution_count": 16,
   "metadata": {},
   "outputs": [
    {
     "name": "stdout",
     "output_type": "stream",
     "text": [
      "AutoPhrase Hand-Labeled Precision: 0.81\n"
     ]
    }
   ],
   "source": [
    "num_positive = 0\n",
    "for ls in phraseness_labeled_autophrase_samples:\n",
    "    if ls[1] == '1':\n",
    "        num_positive += 1\n",
    "print(f'AutoPhrase Hand-Labeled Precision: {(num_positive + 55) / 100}')"
   ]
  },
  {
   "cell_type": "code",
   "execution_count": 17,
   "metadata": {},
   "outputs": [
    {
     "name": "stdout",
     "output_type": "stream",
     "text": [
      "PRDR Hand-Labeled Precision: 0.94\n"
     ]
    }
   ],
   "source": [
    "num_positive = 0\n",
    "for ls in phraseness_labeled_prdr_samples:\n",
    "    if ls[1] == '1':\n",
    "        num_positive += 1\n",
    "print(f'PRDR Hand-Labeled Precision: {(num_positive + 65) / 100}')"
   ]
  }
 ],
 "metadata": {
  "kernelspec": {
   "display_name": "pem",
   "language": "python",
   "name": "pem"
  },
  "language_info": {
   "codemirror_mode": {
    "name": "ipython",
    "version": 3
   },
   "file_extension": ".py",
   "mimetype": "text/x-python",
   "name": "python",
   "nbconvert_exporter": "python",
   "pygments_lexer": "ipython3",
   "version": "3.8.5"
  }
 },
 "nbformat": 4,
 "nbformat_minor": 4
}
