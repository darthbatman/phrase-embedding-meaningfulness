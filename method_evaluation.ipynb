{
 "cells": [
  {
   "cell_type": "code",
   "execution_count": 1,
   "metadata": {},
   "outputs": [],
   "source": [
    "import pickle\n",
    "import random"
   ]
  },
  {
   "cell_type": "code",
   "execution_count": 2,
   "metadata": {},
   "outputs": [],
   "source": [
    "HAND_LABEL_PEM_SAMPLES = False"
   ]
  },
  {
   "cell_type": "code",
   "execution_count": 3,
   "metadata": {},
   "outputs": [],
   "source": [
    "keyphrase_labeled_econ_samples = pickle.load(open('data/labeled_econ_samples.pkl', 'rb'))\n",
    "keyphrase_labeled_autophrase_samples = pickle.load(open('data/labeled_autophrase_samples.pkl', 'rb'))\n",
    "keyphrase_labeled_prdr_samples = pickle.load(open('data/labeled_prdr_samples.pkl', 'rb'))\n",
    "\n",
    "phraseness_labeled_econ_samples = pickle.load(open('data/phraseness_labeled_econ_samples.pkl', 'rb'))\n",
    "phraseness_labeled_autophrase_samples = pickle.load(open('data/phraseness_labeled_autophrase_samples.pkl', 'rb'))\n",
    "phraseness_labeled_prdr_samples = pickle.load(open('data/phraseness_labeled_prdr_samples.pkl', 'rb'))"
   ]
  },
  {
   "cell_type": "code",
   "execution_count": 4,
   "metadata": {},
   "outputs": [],
   "source": [
    "if HAND_LABEL_PEM_SAMPLES:\n",
    "    pem_samples = pickle.load(open(f'data/pem_extracted_vs_200_ws_10_nl_5_mf_5_e_100.pkl', 'rb'))\n",
    "    pem_samples = random.sample(list(pem_samples), 100)"
   ]
  },
  {
   "cell_type": "code",
   "execution_count": 5,
   "metadata": {},
   "outputs": [
    {
     "name": "stdin",
     "output_type": "stream",
     "text": [
      "r:  1\n",
      "video clips:  1\n",
      "evolution:  0\n",
      "cca:  1\n",
      "multiplication:  1\n",
      "fisher:  0\n",
      "large number of parameters:  0\n",
      "crf:  1\n",
      "rgb images:  1\n",
      "w:  0\n",
      "gmm kernel:  1\n",
      "distinct:  0\n",
      "recurrent neural network rnn:  1\n",
      "collections:  0\n",
      "discriminative learning:  1\n",
      "cars:  0\n",
      "ability:  0\n",
      "sample:  1\n",
      "covariate:  1\n",
      "three ways:  0\n",
      "logistic regression:  1\n",
      "iterates:  0\n",
      "manifolds:  1\n",
      "expected reward:  1\n",
      "dissimilarity:  1\n",
      "loading:  0\n",
      "neural network training:  1\n",
      "fire:  0\n",
      "square loss:  1\n",
      "under:  0\n",
      "image classifiers:  1\n",
      "convex loss functions:  1\n",
      "places:  0\n",
      "label propagation:  1\n",
      "incremental:  0\n",
      "tune:  0\n",
      "biometric:  0\n",
      "weight vector:  1\n",
      "nn:  1\n",
      "innovation:  0\n",
      "ranks:  0\n",
      "paper:  0\n",
      "kws:  0\n",
      "vi:  1\n",
      "non linear functions:  1\n",
      "processes:  1\n",
      "introduction:  0\n",
      "background:  0\n",
      "their corresponding:  0\n",
      "developers:  1\n",
      "general purpose:  0\n",
      "noise ratio:  0\n",
      "large amount:  0\n",
      "inlier:  1\n",
      "cma:  0\n",
      "attracting:  0\n",
      "large systems:  1\n",
      "smile:  0\n",
      "useful information:  0\n",
      "nesterov s:  0\n",
      "relevance:  0\n",
      "reason:  0\n",
      "permutations:  1\n",
      "cost:  1\n",
      "unsupervised feature learning:  1\n",
      "mlp:  1\n",
      "event data:  1\n",
      "6:  0\n",
      "es:  0\n",
      "image and text:  0\n",
      "estimation:  1\n",
      "ucb1:  1\n",
      "research:  1\n",
      "analytics:  1\n",
      "dogs:  0\n",
      "explanation:  0\n",
      "media:  1\n",
      "newton s:  0\n",
      "maximization:  1\n",
      "participants:  0\n",
      "play:  0\n",
      "temporal data:  1\n",
      "hyperparameter optimization:  1\n",
      "pictures:  0\n",
      "cooperation:  0\n",
      "value function:  1\n",
      "noun phrases:  1\n",
      "regression model:  1\n",
      "multi armed bandit mab:  1\n",
      "line:  0\n",
      "visits:  0\n",
      "0:  0\n",
      "discrimination:  1\n",
      "convnet:  1\n",
      "cross entropy loss:  1\n",
      "simple gradient:  1\n",
      "id:  0\n",
      "kernel hilbert spaces:  0\n",
      "general:  0\n",
      "rank minimization:  1\n"
     ]
    }
   ],
   "source": [
    "if HAND_LABEL_PEM_SAMPLES:\n",
    "    keyphrase_labeled_pem_samples = []\n",
    "    num_positive = 0\n",
    "    for sample in pem_samples:\n",
    "        label = input(f'{sample}: ')\n",
    "        keyphrase_labeled_pem_samples.append((sample, label))\n",
    "        if label == '1':\n",
    "            num_positive += 1\n",
    "    pickle.dump(keyphrase_labeled_pem_samples, open('data/labeled_pem_samples.pkl', 'wb'))\n",
    "keyphrase_labeled_pem_samples = pickle.load(open('data/labeled_pem_samples.pkl', 'rb'))"
   ]
  },
  {
   "cell_type": "code",
   "execution_count": 6,
   "metadata": {},
   "outputs": [
    {
     "name": "stdin",
     "output_type": "stream",
     "text": [
      "evolution:  1\n",
      "fisher:  0\n",
      "large number of parameters:  0\n",
      "w:  0\n",
      "distinct:  0\n",
      "collections:  1\n",
      "cars:  1\n",
      "ability:  1\n",
      "three ways:  1\n",
      "iterates:  0\n",
      "loading:  0\n",
      "fire:  1\n",
      "under:  0\n",
      "places:  1\n",
      "incremental:  0\n",
      "tune:  0\n",
      "biometric:  0\n",
      "innovation:  1\n",
      "ranks:  1\n",
      "paper:  1\n",
      "kws:  0\n",
      "introduction:  1\n",
      "background:  1\n",
      "their corresponding:  0\n",
      "general purpose:  1\n",
      "noise ratio:  1\n",
      "large amount:  1\n",
      "cma:  0\n",
      "attracting:  0\n",
      "smile:  1\n",
      "useful information:  1\n",
      "nesterov s:  0\n",
      "relevance:  1\n",
      "reason:  1\n",
      "6:  0\n",
      "es:  0\n",
      "image and text:  0\n",
      "dogs:  1\n",
      "explanation:  1\n",
      "newton s:  0\n",
      "participants:  1\n",
      "play:  0\n",
      "pictures:  1\n",
      "cooperation:  1\n",
      "line:  1\n",
      "visits:  1\n",
      "0:  0\n",
      "id:  1\n",
      "kernel hilbert spaces:  0\n",
      "general:  0\n"
     ]
    }
   ],
   "source": [
    "if HAND_LABEL_PEM_SAMPLES:\n",
    "    phraseness_labeled_pem_samples = []\n",
    "    num_positive = 0\n",
    "    for sample, l in keyphrase_labeled_pem_samples:\n",
    "        if l != '1':\n",
    "            label = input(f'{sample}: ')\n",
    "            phraseness_labeled_pem_samples.append((sample, label))\n",
    "            if label == '1':\n",
    "                num_positive += 1\n",
    "    pickle.dump(phraseness_labeled_pem_samples, open('data/phraseness_labeled_pem_samples.pkl', 'wb'))\n",
    "phraseness_labeled_pem_samples = pickle.load(open('data/phraseness_labeled_pem_samples.pkl', 'rb'))"
   ]
  },
  {
   "cell_type": "markdown",
   "metadata": {},
   "source": [
    "## Keyphrase"
   ]
  },
  {
   "cell_type": "code",
   "execution_count": 7,
   "metadata": {},
   "outputs": [
    {
     "name": "stdout",
     "output_type": "stream",
     "text": [
      "PEM Hand-Labeled Precision: 0.5\n"
     ]
    }
   ],
   "source": [
    "num_positive = 0\n",
    "for ls in keyphrase_labeled_pem_samples:\n",
    "    if ls[1] == '1':\n",
    "        num_positive += 1\n",
    "print(f'PEM Hand-Labeled Precision: {num_positive / len(keyphrase_labeled_pem_samples)}')"
   ]
  },
  {
   "cell_type": "code",
   "execution_count": 8,
   "metadata": {},
   "outputs": [
    {
     "name": "stdout",
     "output_type": "stream",
     "text": [
      "ECON Hand-Labeled Precision: 0.57\n"
     ]
    }
   ],
   "source": [
    "num_positive = 0\n",
    "for ls in keyphrase_labeled_econ_samples:\n",
    "    if ls[1] == '1':\n",
    "        num_positive += 1\n",
    "print(f'ECON Hand-Labeled Precision: {num_positive / len(keyphrase_labeled_econ_samples)}')"
   ]
  },
  {
   "cell_type": "code",
   "execution_count": 9,
   "metadata": {},
   "outputs": [
    {
     "name": "stdout",
     "output_type": "stream",
     "text": [
      "AutoPhrase Hand-Labeled Precision: 0.55\n"
     ]
    }
   ],
   "source": [
    "num_positive = 0\n",
    "for ls in keyphrase_labeled_autophrase_samples:\n",
    "    if ls[1] == '1':\n",
    "        num_positive += 1\n",
    "print(f'AutoPhrase Hand-Labeled Precision: {num_positive / len(keyphrase_labeled_autophrase_samples)}')"
   ]
  },
  {
   "cell_type": "code",
   "execution_count": 10,
   "metadata": {},
   "outputs": [
    {
     "name": "stdout",
     "output_type": "stream",
     "text": [
      "PRDR Hand-Labeled Precision: 0.65\n"
     ]
    }
   ],
   "source": [
    "num_positive = 0\n",
    "for ls in keyphrase_labeled_prdr_samples:\n",
    "    if ls[1] == '1':\n",
    "        num_positive += 1\n",
    "print(f'PRDR Hand-Labeled Precision: {num_positive / len(keyphrase_labeled_prdr_samples)}')"
   ]
  },
  {
   "cell_type": "markdown",
   "metadata": {},
   "source": [
    "## Phraseness"
   ]
  },
  {
   "cell_type": "code",
   "execution_count": 11,
   "metadata": {},
   "outputs": [
    {
     "name": "stdout",
     "output_type": "stream",
     "text": [
      "PEM Hand-Labeled Precision: 0.67\n"
     ]
    }
   ],
   "source": [
    "num_positive = 0\n",
    "for ls in phraseness_labeled_econ_samples:\n",
    "    if ls[1] == '1':\n",
    "        num_positive += 1\n",
    "print(f'PEM Hand-Labeled Precision: {(num_positive + 43) / 100}')"
   ]
  },
  {
   "cell_type": "code",
   "execution_count": 12,
   "metadata": {},
   "outputs": [
    {
     "name": "stdout",
     "output_type": "stream",
     "text": [
      "ECON Hand-Labeled Precision: 0.81\n"
     ]
    }
   ],
   "source": [
    "num_positive = 0\n",
    "for ls in phraseness_labeled_econ_samples:\n",
    "    if ls[1] == '1':\n",
    "        num_positive += 1\n",
    "print(f'ECON Hand-Labeled Precision: {(num_positive + 57) / 100}')"
   ]
  },
  {
   "cell_type": "code",
   "execution_count": 13,
   "metadata": {},
   "outputs": [
    {
     "name": "stdout",
     "output_type": "stream",
     "text": [
      "AutoPhrase Hand-Labeled Precision: 0.81\n"
     ]
    }
   ],
   "source": [
    "num_positive = 0\n",
    "for ls in phraseness_labeled_autophrase_samples:\n",
    "    if ls[1] == '1':\n",
    "        num_positive += 1\n",
    "print(f'AutoPhrase Hand-Labeled Precision: {(num_positive + 55) / 100}')"
   ]
  },
  {
   "cell_type": "code",
   "execution_count": 14,
   "metadata": {},
   "outputs": [
    {
     "name": "stdout",
     "output_type": "stream",
     "text": [
      "PRDR Hand-Labeled Precision: 0.94\n"
     ]
    }
   ],
   "source": [
    "num_positive = 0\n",
    "for ls in phraseness_labeled_prdr_samples:\n",
    "    if ls[1] == '1':\n",
    "        num_positive += 1\n",
    "print(f'PRDR Hand-Labeled Precision: {(num_positive + 65) / 100}')"
   ]
  }
 ],
 "metadata": {
  "kernelspec": {
   "display_name": "pem",
   "language": "python",
   "name": "pem"
  },
  "language_info": {
   "codemirror_mode": {
    "name": "ipython",
    "version": 3
   },
   "file_extension": ".py",
   "mimetype": "text/x-python",
   "name": "python",
   "nbconvert_exporter": "python",
   "pygments_lexer": "ipython3",
   "version": "3.8.5"
  }
 },
 "nbformat": 4,
 "nbformat_minor": 4
}
