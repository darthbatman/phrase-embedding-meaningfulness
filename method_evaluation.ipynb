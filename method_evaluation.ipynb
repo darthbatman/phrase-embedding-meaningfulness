{
 "cells": [
  {
   "cell_type": "code",
   "execution_count": 1,
   "metadata": {},
   "outputs": [],
   "source": [
    "import pickle\n",
    "import random"
   ]
  },
  {
   "cell_type": "code",
   "execution_count": 2,
   "metadata": {},
   "outputs": [],
   "source": [
    "HAND_LABEL_PEM_SAMPLES = False"
   ]
  },
  {
   "cell_type": "code",
   "execution_count": 3,
   "metadata": {},
   "outputs": [],
   "source": [
    "keyphrase_labeled_econ_samples = pickle.load(open('data/labeled_econ_samples.pkl', 'rb'))\n",
    "keyphrase_labeled_autophrase_samples = pickle.load(open('data/labeled_autophrase_samples.pkl', 'rb'))\n",
    "keyphrase_labeled_prdr_samples = pickle.load(open('data/labeled_prdr_samples.pkl', 'rb'))\n",
    "\n",
    "phraseness_labeled_econ_samples = pickle.load(open('data/phraseness_labeled_econ_samples.pkl', 'rb'))\n",
    "phraseness_labeled_autophrase_samples = pickle.load(open('data/phraseness_labeled_autophrase_samples.pkl', 'rb'))\n",
    "phraseness_labeled_prdr_samples = pickle.load(open('data/phraseness_labeled_prdr_samples.pkl', 'rb'))"
   ]
  },
  {
   "cell_type": "code",
   "execution_count": 4,
   "metadata": {},
   "outputs": [],
   "source": [
    "if HAND_LABEL_PEM_SAMPLES:\n",
    "    pem_samples = pickle.load(open(f'data/pem_extracted_vs_200_ws_5_nl_5_mf_5_e_200.pkl', 'rb'))\n",
    "    pem_samples = random.sample(list(pem_samples), 100)"
   ]
  },
  {
   "cell_type": "code",
   "execution_count": 5,
   "metadata": {},
   "outputs": [],
   "source": [
    "if HAND_LABEL_PEM_SAMPLES:\n",
    "    keyphrase_labeled_pem_samples = []\n",
    "    num_positive = 0\n",
    "    for sample in pem_samples:\n",
    "        label = input(f'{sample}: ')\n",
    "        keyphrase_labeled_pem_samples.append((sample, label))\n",
    "        if label == '1':\n",
    "            num_positive += 1\n",
    "    pickle.dump(keyphrase_labeled_pem_samples, open('data/labeled_pem_samples.pkl', 'wb'))\n",
    "keyphrase_labeled_pem_samples = pickle.load(open('data/labeled_pem_samples.pkl', 'rb'))"
   ]
  },
  {
   "cell_type": "code",
   "execution_count": 6,
   "metadata": {},
   "outputs": [],
   "source": [
    "if HAND_LABEL_PEM_SAMPLES:\n",
    "    phraseness_labeled_pem_samples = []\n",
    "    num_positive = 0\n",
    "    for sample, l in keyphrase_labeled_pem_samples:\n",
    "        if l != '1':\n",
    "            label = input(f'{sample}: ')\n",
    "            phraseness_labeled_pem_samples.append((sample, label))\n",
    "            if label == '1':\n",
    "                num_positive += 1\n",
    "    pickle.dump(phraseness_labeled_pem_samples, open('data/phraseness_labeled_pem_samples.pkl', 'wb'))\n",
    "phraseness_labeled_pem_samples = pickle.load(open('data/phraseness_labeled_pem_samples.pkl', 'rb'))"
   ]
  },
  {
   "cell_type": "markdown",
   "metadata": {},
   "source": [
    "## Keyphrase"
   ]
  },
  {
   "cell_type": "code",
   "execution_count": 7,
   "metadata": {},
   "outputs": [
    {
     "name": "stdout",
     "output_type": "stream",
     "text": [
      "PEM Hand-Labeled Precision: 0.43\n"
     ]
    }
   ],
   "source": [
    "num_positive = 0\n",
    "for ls in keyphrase_labeled_pem_samples:\n",
    "    if ls[1] == '1':\n",
    "        num_positive += 1\n",
    "print(f'PEM Hand-Labeled Precision: {num_positive / len(keyphrase_labeled_pem_samples)}')"
   ]
  },
  {
   "cell_type": "code",
   "execution_count": 8,
   "metadata": {},
   "outputs": [
    {
     "name": "stdout",
     "output_type": "stream",
     "text": [
      "ECON Hand-Labeled Precision: 0.57\n"
     ]
    }
   ],
   "source": [
    "num_positive = 0\n",
    "for ls in keyphrase_labeled_econ_samples:\n",
    "    if ls[1] == '1':\n",
    "        num_positive += 1\n",
    "print(f'ECON Hand-Labeled Precision: {num_positive / len(keyphrase_labeled_econ_samples)}')"
   ]
  },
  {
   "cell_type": "code",
   "execution_count": 9,
   "metadata": {},
   "outputs": [
    {
     "name": "stdout",
     "output_type": "stream",
     "text": [
      "AutoPhrase Hand-Labeled Precision: 0.55\n"
     ]
    }
   ],
   "source": [
    "num_positive = 0\n",
    "for ls in keyphrase_labeled_autophrase_samples:\n",
    "    if ls[1] == '1':\n",
    "        num_positive += 1\n",
    "print(f'AutoPhrase Hand-Labeled Precision: {num_positive / len(keyphrase_labeled_autophrase_samples)}')"
   ]
  },
  {
   "cell_type": "code",
   "execution_count": 10,
   "metadata": {},
   "outputs": [
    {
     "name": "stdout",
     "output_type": "stream",
     "text": [
      "PRDR Hand-Labeled Precision: 0.65\n"
     ]
    }
   ],
   "source": [
    "num_positive = 0\n",
    "for ls in keyphrase_labeled_prdr_samples:\n",
    "    if ls[1] == '1':\n",
    "        num_positive += 1\n",
    "print(f'PRDR Hand-Labeled Precision: {num_positive / len(keyphrase_labeled_prdr_samples)}')"
   ]
  },
  {
   "cell_type": "markdown",
   "metadata": {},
   "source": [
    "## Phraseness"
   ]
  },
  {
   "cell_type": "code",
   "execution_count": 11,
   "metadata": {},
   "outputs": [
    {
     "name": "stdout",
     "output_type": "stream",
     "text": [
      "PEM Hand-Labeled Precision: 0.67\n"
     ]
    }
   ],
   "source": [
    "num_positive = 0\n",
    "for ls in phraseness_labeled_econ_samples:\n",
    "    if ls[1] == '1':\n",
    "        num_positive += 1\n",
    "print(f'PEM Hand-Labeled Precision: {(num_positive + 43) / 100}')"
   ]
  },
  {
   "cell_type": "code",
   "execution_count": 12,
   "metadata": {},
   "outputs": [
    {
     "name": "stdout",
     "output_type": "stream",
     "text": [
      "ECON Hand-Labeled Precision: 0.81\n"
     ]
    }
   ],
   "source": [
    "num_positive = 0\n",
    "for ls in phraseness_labeled_econ_samples:\n",
    "    if ls[1] == '1':\n",
    "        num_positive += 1\n",
    "print(f'ECON Hand-Labeled Precision: {(num_positive + 57) / 100}')"
   ]
  },
  {
   "cell_type": "code",
   "execution_count": 13,
   "metadata": {},
   "outputs": [
    {
     "name": "stdout",
     "output_type": "stream",
     "text": [
      "AutoPhrase Hand-Labeled Precision: 0.81\n"
     ]
    }
   ],
   "source": [
    "num_positive = 0\n",
    "for ls in phraseness_labeled_autophrase_samples:\n",
    "    if ls[1] == '1':\n",
    "        num_positive += 1\n",
    "print(f'AutoPhrase Hand-Labeled Precision: {(num_positive + 55) / 100}')"
   ]
  },
  {
   "cell_type": "code",
   "execution_count": 14,
   "metadata": {},
   "outputs": [
    {
     "name": "stdout",
     "output_type": "stream",
     "text": [
      "PRDR Hand-Labeled Precision: 0.94\n"
     ]
    }
   ],
   "source": [
    "num_positive = 0\n",
    "for ls in phraseness_labeled_prdr_samples:\n",
    "    if ls[1] == '1':\n",
    "        num_positive += 1\n",
    "print(f'PRDR Hand-Labeled Precision: {(num_positive + 65) / 100}')"
   ]
  }
 ],
 "metadata": {
  "kernelspec": {
   "display_name": "pem",
   "language": "python",
   "name": "pem"
  },
  "language_info": {
   "codemirror_mode": {
    "name": "ipython",
    "version": 3
   },
   "file_extension": ".py",
   "mimetype": "text/x-python",
   "name": "python",
   "nbconvert_exporter": "python",
   "pygments_lexer": "ipython3",
   "version": "3.8.5"
  }
 },
 "nbformat": 4,
 "nbformat_minor": 4
}
